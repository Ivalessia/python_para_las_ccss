{
 "cells": [
  {
   "cell_type": "markdown",
   "metadata": {
    "slideshow": {
     "slide_type": "slide"
    }
   },
   "source": [
    "# Funciones II\n",
    "\n",
    "\n",
    "## Alcance de una variable\n",
    "\n",
    "Cuando escribimos funciones, es importante tener claro cuál es el **alcance** de las variables definidas dentro de las funciones. Tomando por ejemplo la función definida en la última clase: \n"
   ]
  },
  {
   "cell_type": "code",
   "execution_count": null,
   "metadata": {
    "slideshow": {
     "slide_type": "slide"
    }
   },
   "outputs": [],
   "source": [
    "a = 1\n",
    "b = 2\n",
    "\n",
    "def eleva_potencia(a,b):\n",
    "    '''\n",
    "    Eleva número \"a\" a la \"b\" potencia.\n",
    "    Insumo (input): \n",
    "        a: número\n",
    "        b: número\n",
    "    Producto (output):\n",
    "        resultado: un número\n",
    "    '''\n",
    "    c = 10\n",
    "    resultado = a**b\n",
    "    return resultado"
   ]
  },
  {
   "cell_type": "markdown",
   "metadata": {
    "slideshow": {
     "slide_type": "subslide"
    }
   },
   "source": [
    "Enfocándonos en la variable ``` a ```:"
   ]
  },
  {
   "cell_type": "code",
   "execution_count": null,
   "metadata": {
    "slideshow": {
     "slide_type": "fragment"
    }
   },
   "outputs": [],
   "source": [
    "eleva_potencia(1,1)"
   ]
  },
  {
   "cell_type": "code",
   "execution_count": null,
   "metadata": {
    "slideshow": {
     "slide_type": "fragment"
    }
   },
   "outputs": [],
   "source": [
    "a"
   ]
  },
  {
   "cell_type": "markdown",
   "metadata": {
    "slideshow": {
     "slide_type": "fragment"
    }
   },
   "source": [
    "Vemos que existe, y tiene un **_alcance global_**. Eso quiere decir que fue asignada _fuera_ de una función y su tiempo de vida se dará mientras corra el programa. "
   ]
  },
  {
   "cell_type": "markdown",
   "metadata": {
    "slideshow": {
     "slide_type": "subslide"
    }
   },
   "source": [
    "Sin embargo, si queremos acceder a la variable c, definida dentro de la función:"
   ]
  },
  {
   "cell_type": "code",
   "execution_count": null,
   "metadata": {
    "slideshow": {
     "slide_type": "fragment"
    }
   },
   "outputs": [],
   "source": [
    "c "
   ]
  },
  {
   "cell_type": "markdown",
   "metadata": {
    "slideshow": {
     "slide_type": "subslide"
    }
   },
   "source": [
    "Nos sale un error! Eso es porque ```c``` solo tiene un **_alcance local_**. Es decir, está definida dentro de una función y solo existe cuando esta es llamada. Hacer esta distinción es muy importante porque: \n",
    "\n",
    "1. El código que  está en el alcance global (como nuestra variable a) no puede llamar a código de alcance local (como nuestra variable c). \n",
    "2. Sin  embargo, nuestra código de alcance local puede hacer operaciones con el código de alcance global. \n",
    "\n",
    "3. El código definido dentro de un alcance local no puede usarse en el alcance local de otra función. \n",
    "\n",
    "4. Se puede usar el mismo nombre para una variable si están en diferentes alcances. "
   ]
  },
  {
   "cell_type": "code",
   "execution_count": null,
   "metadata": {
    "slideshow": {
     "slide_type": "subslide"
    }
   },
   "outputs": [],
   "source": [
    "\n",
    "### Ejemplo del punto 2 \n",
    "z_var = 5\n",
    "def eleva_potencia_a(a,b):\n",
    "    '''\n",
    "    Eleva número \"a\" a la \"b\" potencia.\n",
    "    Insumo (input): \n",
    "        a: número\n",
    "        b: número\n",
    "    Producto (output):\n",
    "        resultado: un número\n",
    "    '''\n",
    "    c = 10 + z_var ##c = 15\n",
    "    resultado = a**b + c\n",
    "    return resultado"
   ]
  },
  {
   "cell_type": "code",
   "execution_count": null,
   "metadata": {
    "slideshow": {
     "slide_type": "fragment"
    }
   },
   "outputs": [],
   "source": [
    "eleva_potencia_a(1,2)"
   ]
  },
  {
   "cell_type": "code",
   "execution_count": null,
   "metadata": {
    "slideshow": {
     "slide_type": "subslide"
    }
   },
   "outputs": [],
   "source": [
    "### Ejemplo del punto 4\n",
    "z_var = 5\n",
    "\n",
    "def eleva_potencia_b(a,b):\n",
    "    '''\n",
    "    Eleva número \"a\" a la \"b\" potencia.\n",
    "    Insumo (input): \n",
    "        a: número\n",
    "        b: número\n",
    "    Producto (output):\n",
    "        resultado: un número\n",
    "    '''\n",
    "    z_var = 11\n",
    "    c = 10 + z_var\n",
    "    resultado = a**b + c\n",
    "    return resultado"
   ]
  },
  {
   "cell_type": "code",
   "execution_count": null,
   "metadata": {
    "slideshow": {
     "slide_type": "fragment"
    }
   },
   "outputs": [],
   "source": [
    "eleva_potencia_a(1,2)"
   ]
  },
  {
   "cell_type": "code",
   "execution_count": null,
   "metadata": {
    "slideshow": {
     "slide_type": "fragment"
    }
   },
   "outputs": [],
   "source": [
    "eleva_potencia_b(1,2)"
   ]
  },
  {
   "cell_type": "markdown",
   "metadata": {
    "slideshow": {
     "slide_type": "slide"
    }
   },
   "source": [
    "# *Args y **Kwargs\n",
    "\n",
    "Ejemplo adaptado de https://realpython.com/python-kwargs-and-args/"
   ]
  },
  {
   "cell_type": "markdown",
   "metadata": {
    "slideshow": {
     "slide_type": "fragment"
    }
   },
   "source": [
    "- Los ```*args``` y ```**kwargs``` permiten la flexibilidad en la definición de los parámetros de una función. \n",
    "- Los ```*args``` son tratados como una lista. \n",
    "- Los ```**kwargs``` son tratados como un diccionario. \n",
    "\n",
    "importante: tuple unpacking"
   ]
  },
  {
   "cell_type": "code",
   "execution_count": null,
   "metadata": {
    "slideshow": {
     "slide_type": "subslide"
    }
   },
   "outputs": [],
   "source": [
    "def suma_numeros(*args):\n",
    "    suma = 0\n",
    "\n",
    "    for arg in args:\n",
    "        suma+=arg\n",
    "    return suma"
   ]
  },
  {
   "cell_type": "code",
   "execution_count": null,
   "metadata": {
    "slideshow": {
     "slide_type": "fragment"
    }
   },
   "outputs": [],
   "source": [
    "suma_numeros(1,2,3,4,8,9)"
   ]
  },
  {
   "cell_type": "code",
   "execution_count": null,
   "metadata": {
    "slideshow": {
     "slide_type": "subslide"
    }
   },
   "outputs": [],
   "source": [
    "def checkea_kwargs(**kwargs):\n",
    "    suma = 0\n",
    "\n",
    "    for key, val in kwargs.items():\n",
    "        print(key, val)\n",
    "    "
   ]
  },
  {
   "cell_type": "code",
   "execution_count": null,
   "metadata": {
    "slideshow": {
     "slide_type": "fragment"
    }
   },
   "outputs": [],
   "source": [
    "checkea_kwargs(a = 1, b = 2, c = 3)"
   ]
  },
  {
   "cell_type": "markdown",
   "metadata": {
    "slideshow": {
     "slide_type": "slide"
    }
   },
   "source": [
    "# Cómo importar funciones\n",
    "\n",
    "Cuando importamos funciones de otros  scripts, su nueva denominación son  **módulos** (por ello cuando descargamos paquetes, sus módulos son en realidad funciones dentro de ese paquete). "
   ]
  },
  {
   "cell_type": "code",
   "execution_count": null,
   "metadata": {
    "slideshow": {
     "slide_type": "subslide"
    }
   },
   "outputs": [],
   "source": [
    "%load_ext autoreload\n",
    "%autoreload 2"
   ]
  },
  {
   "cell_type": "code",
   "execution_count": null,
   "metadata": {
    "slideshow": {
     "slide_type": "fragment"
    }
   },
   "outputs": [],
   "source": [
    "import ejemplo2 as e2 #modo 1: alias, "
   ]
  },
  {
   "cell_type": "code",
   "execution_count": null,
   "metadata": {
    "slideshow": {
     "slide_type": "fragment"
    }
   },
   "outputs": [],
   "source": [
    "e2.eleva_potencia_cc(1,2)"
   ]
  },
  {
   "cell_type": "code",
   "execution_count": null,
   "metadata": {
    "slideshow": {
     "slide_type": "fragment"
    }
   },
   "outputs": [],
   "source": [
    "from ejemplo2 import * #Modo 2, * es un wildcard para seleccionar todos los módulos\n",
    "\n"
   ]
  },
  {
   "cell_type": "code",
   "execution_count": null,
   "metadata": {
    "slideshow": {
     "slide_type": "fragment"
    }
   },
   "outputs": [],
   "source": [
    "eleva_potencia_dd(1,2)"
   ]
  },
  {
   "cell_type": "code",
   "execution_count": null,
   "metadata": {
    "slideshow": {
     "slide_type": "subslide"
    }
   },
   "outputs": [],
   "source": [
    "from ejemplo2 import eleva_potencia_ee\n"
   ]
  },
  {
   "cell_type": "code",
   "execution_count": null,
   "metadata": {
    "slideshow": {
     "slide_type": "fragment"
    }
   },
   "outputs": [],
   "source": [
    "e2.eleva_potencia_dd(4,2)"
   ]
  },
  {
   "cell_type": "code",
   "execution_count": null,
   "metadata": {
    "slideshow": {
     "slide_type": "slide"
    }
   },
   "outputs": [],
   "source": [
    "def clasifica_cunamas(rural, pobreza, num_ccpp_urbano  = False, centros_rural = False,\n",
    "              desnutricion_cronica  = False, es_juntos  = False):\n",
    "    '''\n",
    "    verifica si distrito es cunamas\n",
    "    insumos:\n",
    "    \n",
    "    retorna:\n",
    "        booleano\n",
    "    '''\n",
    "    \n",
    "    if rural:\n",
    "        UMBRAL_POBREZA = 50\n",
    "        UMBRAL_RURAL = 50\n",
    "        DESNUTRICION_CRONICA = 30\n",
    "\n",
    "        es_cunamas = ((pobreza >= UMBRAL_POBREZA) and (centros_rural >= UMBRAL_RURAL) and \\\n",
    "        (desnutricion_cronica >= DESNUTRICION_CRONICA)  \\\n",
    "        and es_juntos) \n",
    "    else:\n",
    "        UMBRAL_POBREZA = 19.1\n",
    "        CCPP_URBANO = 1\n",
    "        es_cunamas =((pobreza >= UMBRAL_POBREZA) and (num_ccpp_urbano >= CCPP_URBANO)) \n",
    "    return es_cunamas"
   ]
  },
  {
   "cell_type": "code",
   "execution_count": null,
   "metadata": {
    "slideshow": {
     "slide_type": "subslide"
    }
   },
   "outputs": [],
   "source": [
    "#Ejemplo urbano \n",
    "rural = False\n",
    "pobreza = 30\n",
    "num_ccpp_urbano = 3\n",
    "\n",
    "clasifica_cunamas(rural, pobreza, num_ccpp_urbano)\n"
   ]
  },
  {
   "cell_type": "code",
   "execution_count": null,
   "metadata": {
    "slideshow": {
     "slide_type": "subslide"
    }
   },
   "outputs": [],
   "source": [
    "#Ejemplo rural\n",
    "rural = True\n",
    "pobreza =  60\n",
    "centros_rural = 51\n",
    "desnutricion_cronica = 40\n",
    "es_juntos = True\n",
    "\n",
    "clasifica_cunamas(rural, pobreza, False ,centros_rural, desnutricion_cronica, es_juntos)\n"
   ]
  },
  {
   "cell_type": "code",
   "execution_count": null,
   "metadata": {
    "slideshow": {
     "slide_type": "slide"
    }
   },
   "outputs": [],
   "source": [
    "## Ejemplo del trio pitagórico\n",
    "set_ = range(1,25)\n",
    "for a in set_:\n",
    "    for b in set_:\n",
    "        for c in set_:\n",
    "            if a**2 + b**2 == c**2:\n",
    "                print(a,b,c)"
   ]
  },
  {
   "cell_type": "code",
   "execution_count": null,
   "metadata": {
    "slideshow": {
     "slide_type": "slide"
    }
   },
   "outputs": [],
   "source": [
    "###Cómo sería como función. \n",
    "\n",
    "def trio_pitagorico(min_, max_): ## Definiendo qué quiero parametrizar. \n",
    "\n",
    "    set_values = range(min_, max_)\n",
    "\n",
    "    lst_trio = []\n",
    "    \n",
    "    for a in set_values:\n",
    "        for b in set_values:\n",
    "            for c in set_values:\n",
    "                if a**2 + b**2 == c**2:\n",
    "                    lst_trio.append((a,b,c))\n",
    "    return lst_trio"
   ]
  },
  {
   "cell_type": "code",
   "execution_count": null,
   "metadata": {
    "slideshow": {
     "slide_type": "fragment"
    }
   },
   "outputs": [],
   "source": [
    "#trio_pitagorico(1, 50)"
   ]
  },
  {
   "cell_type": "code",
   "execution_count": null,
   "metadata": {
    "slideshow": {
     "slide_type": "slide"
    }
   },
   "outputs": [],
   "source": [
    "ingresos = 100\n",
    "juegos_por_dia = 3\n",
    "\n",
    "def juegos_switch(ingresos, juegos_por_dia):\n",
    "\n",
    "\n",
    "    gastos = 0\n",
    "    precio_juegos_switch = 7\n",
    "    juegos_que_compre = 0\n",
    "    dias = 0 \n",
    "\n",
    "    while gastos < ingresos:\n",
    "        gastos += precio_juegos_switch * juegos_por_dia\n",
    "        juegos_que_compre += juegos_por_dia\n",
    "        dias += 1\n",
    "        \n",
    "    print(f'Me alcanzan para {juegos_que_compre} juegos, en {dias} días y me gasté {gastos} soles')\n"
   ]
  },
  {
   "cell_type": "code",
   "execution_count": null,
   "metadata": {
    "slideshow": {
     "slide_type": "fragment"
    }
   },
   "outputs": [],
   "source": [
    "juegos_switch(2000, 5)"
   ]
  },
  {
   "cell_type": "markdown",
   "metadata": {
    "slideshow": {
     "slide_type": "slide"
    }
   },
   "source": [
    "## Los gatitos\n",
    "\n",
    "Vemos un ejemplo con gatitos: "
   ]
  },
  {
   "cell_type": "code",
   "execution_count": null,
   "metadata": {
    "slideshow": {
     "slide_type": "fragment"
    }
   },
   "outputs": [],
   "source": [
    "\n",
    "gatitos = 0\n",
    "\n",
    "assert gatitos >= 0\n",
    "\n",
    "if gatitos == 1:\n",
    "    print(\"Que lindo gatito!\")\n",
    "elif gatitos >1:\n",
    "    print(\"Que lindos gatitos!\")\n",
    "else:\n",
    "    print(\"Deberia adoptar un gatito\")\n"
   ]
  },
  {
   "cell_type": "markdown",
   "metadata": {
    "slideshow": {
     "slide_type": "subslide"
    }
   },
   "source": [
    "¿Qué pasaría si quiero volver a correr nuestro programa porque nuestro número de gatitos cambia? Tengo que volver a definir una y otra vez la variable ```gatitos```?\n",
    "\n",
    "¿Qué pasaría si quiero agregar más condicionalidades a mi programa? \n",
    "\n",
    "¿Qué pasa si tengo varios amigos (que puedo representar como una lista) que también quieren probar el número de gatitos que tienen?\n",
    "\n"
   ]
  },
  {
   "cell_type": "code",
   "execution_count": null,
   "metadata": {},
   "outputs": [],
   "source": [
    "def contar_gatitos(gatitos):\n",
    "    '''\n",
    "    saluda gatitos dependiendo de cuantos tengas\n",
    "    \n",
    "    Input: un número entero\n",
    "    Output: nada, solo saluda a mi(s) gatitos\n",
    "    '''\n",
    "    assert gatitos >= 0\n",
    "\n",
    "    if gatitos == 1:\n",
    "        print(\"Que lindo gatito!\")\n",
    "    elif gatitos >1:\n",
    "        print(\"Que lindos gatitos!\")\n",
    "    else:\n",
    "        print(\"Deberia adoptar un gatito\")"
   ]
  },
  {
   "cell_type": "code",
   "execution_count": null,
   "metadata": {},
   "outputs": [],
   "source": [
    "contar_gatitos(0)"
   ]
  },
  {
   "cell_type": "markdown",
   "metadata": {
    "slideshow": {
     "slide_type": "slide"
    }
   },
   "source": [
    "## Adicional: Funciones anónimas (lambda)\n"
   ]
  },
  {
   "cell_type": "code",
   "execution_count": null,
   "metadata": {
    "slideshow": {
     "slide_type": "fragment"
    }
   },
   "outputs": [],
   "source": [
    "suma = lambda x, y: x + y\n",
    "suma(5,6)"
   ]
  },
  {
   "cell_type": "code",
   "execution_count": null,
   "metadata": {
    "slideshow": {
     "slide_type": "fragment"
    }
   },
   "outputs": [],
   "source": [
    "potencia = lambda x: x**2\n",
    "list(map(potencia, [1,2,3,4]))\n"
   ]
  },
  {
   "cell_type": "code",
   "execution_count": null,
   "metadata": {
    "slideshow": {
     "slide_type": "slide"
    }
   },
   "outputs": [],
   "source": [
    "lst = [1,2,3,4,5]\n",
    "def incr(x):\n",
    "    return x + 1\n",
    "\n",
    "list(map(incr, lst))"
   ]
  },
  {
   "cell_type": "code",
   "execution_count": null,
   "metadata": {
    "slideshow": {
     "slide_type": "fragment"
    }
   },
   "outputs": [],
   "source": [
    "filtro = lambda x:  x == 10\n",
    "list(filter(filtro, [10,1,10,2,10,5]))"
   ]
  },
  {
   "cell_type": "code",
   "execution_count": null,
   "metadata": {
    "slideshow": {
     "slide_type": "fragment"
    }
   },
   "outputs": [],
   "source": [
    "from functools import reduce\n",
    "reduce(suma, lst)"
   ]
  },
  {
   "cell_type": "code",
   "execution_count": null,
   "metadata": {
    "slideshow": {
     "slide_type": "fragment"
    }
   },
   "outputs": [],
   "source": [
    "#No cubriremos map, filter y reduce en detalle"
   ]
  }
 ],
 "metadata": {
  "celltoolbar": "Slideshow",
  "kernelspec": {
   "display_name": "Python 3 (ipykernel)",
   "language": "python",
   "name": "python3"
  },
  "language_info": {
   "codemirror_mode": {
    "name": "ipython",
    "version": 3
   },
   "file_extension": ".py",
   "mimetype": "text/x-python",
   "name": "python",
   "nbconvert_exporter": "python",
   "pygments_lexer": "ipython3",
   "version": "3.11.7"
  }
 },
 "nbformat": 4,
 "nbformat_minor": 4
}
