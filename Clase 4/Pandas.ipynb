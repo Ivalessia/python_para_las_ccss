{
 "cells": [
  {
   "cell_type": "markdown",
   "metadata": {
    "slideshow": {
     "slide_type": "slide"
    }
   },
   "source": [
    "# Pandas (Parte 1) "
   ]
  },
  {
   "cell_type": "code",
   "execution_count": null,
   "metadata": {},
   "outputs": [],
   "source": [
    "# from IPython.core.display import display, HTML\n",
    "# display(HTML(\"<style>.container { width:90% ! important; }<style>\"))"
   ]
  },
  {
   "cell_type": "markdown",
   "metadata": {
    "slideshow": {
     "slide_type": "slide"
    }
   },
   "source": [
    "Pandas es la librería más popular de Python para realizar análisis de datos. Esta se especializa en trabajar con ciertos tipos de datos. Los más importantes son:\n",
    "\n",
    "- Data tabular, como los dataframes (o cualquier base de datos estructurada que tengamos).\n",
    "- Series\n",
    "- Series de tiempo\n",
    "\n",
    "Los objetos de Pandas más importantes son 2: \n",
    "- Series\n",
    "- Dataframes (nuestro enfoque principal). "
   ]
  },
  {
   "cell_type": "markdown",
   "metadata": {
    "slideshow": {
     "slide_type": "slide"
    }
   },
   "source": [
    "\n",
    "\n",
    "Esta librería es un _must_ en el aprendizaje del análisis de datos, machine learning, etc por una serie de motivos:\n",
    "- Se integra perfectamente con librerías como scikit-learn (machine learning), matplotlib, seaborn y altair (visualización de datos), statsmodels (modelos estadísticos listos para usar), análisis de texto, análisis espacial (geopandas, etc), big data(koalas).\n",
    "\n",
    "- La gran parte de la comunidad que hace data analysis, y que se apoya mediante foros y demás, usa Pandas. \n",
    "- Pandas es muy amplio y tiene muchas funcionalidades. "
   ]
  },
  {
   "cell_type": "markdown",
   "metadata": {
    "slideshow": {
     "slide_type": "slide"
    }
   },
   "source": [
    "### 1. Importar pandas"
   ]
  },
  {
   "cell_type": "code",
   "execution_count": null,
   "metadata": {
    "slideshow": {
     "slide_type": "fragment"
    }
   },
   "outputs": [],
   "source": [
    "import pandas as pd"
   ]
  },
  {
   "cell_type": "markdown",
   "metadata": {
    "slideshow": {
     "slide_type": "slide"
    }
   },
   "source": [
    "### 2. Hacer disponible nuestro dataframe\n",
    "\n",
    "- Casi SIEMPRE trabajaremos con dataframes. \n",
    "\n",
    "\n",
    "Pero qué es un dataframe? \n",
    "\n",
    "- Es una estructura de datos de dos dimensiones (fila-columna). \n",
    "- Cada fila es una observación, y cada columna, una variable (atributo, feature, etc).  \n",
    "- El dataframe sirve para representar bases de datos. \n",
    "\n",
    "\n",
    "2 maneras: crearlo por nosotros mismos ó leer datos\n"
   ]
  },
  {
   "cell_type": "markdown",
   "metadata": {
    "slideshow": {
     "slide_type": "slide"
    }
   },
   "source": [
    "<img src=\"img/db_example.jpeg\" width=\"800\">\n",
    "\n",
    "\n",
    "\n",
    "<br>\n",
    "</br>"
   ]
  },
  {
   "cell_type": "markdown",
   "metadata": {
    "slideshow": {
     "slide_type": "slide"
    }
   },
   "source": [
    "####  Una forma simple de crear dataframes: "
   ]
  },
  {
   "cell_type": "code",
   "execution_count": null,
   "metadata": {},
   "outputs": [],
   "source": [
    "nombres_columnas = ['rural', 'pobreza', 'num_ccpp_urbano', 'desnutricion_cronica',\n",
    "                   'centros_rural', 'es_juntos']\n",
    "\n",
    "obs1 = [True, 40, 1, 50, 60, True]\n",
    "obs2 = [True, 55, 2, 30, 55, True]\n",
    "obs3 = [False, 25, 3, 40, 40, True]\n",
    "\n",
    "data = [obs1, obs2, obs3]\n",
    "\n",
    "ejemplo_df = pd.DataFrame(data = data, columns = nombres_columnas)\n",
    "ejemplo_df"
   ]
  },
  {
   "cell_type": "markdown",
   "metadata": {},
   "source": [
    "#### Otra forma de hacerlo "
   ]
  },
  {
   "cell_type": "code",
   "execution_count": null,
   "metadata": {},
   "outputs": [],
   "source": [
    "# Ejemplo cuna más de anterior clase\n",
    "df = pd.DataFrame()\n",
    "\n",
    "df['rural'] = [True, True, False, True, False]\n",
    "df['pobreza'] = [40, 55, 25, 60, 30]\n",
    "df['num_ccpp_urbano'] =[1,2,3,4,5]\n",
    "df['desnutricion_cronica'] = [50,30,40,20,45]\n",
    "df['centros_rural'] = [60,55,40,50,20]\n",
    "df['es_juntos'] = [True, True, True, True, True]\n",
    "## df['cuna_o_no'] = [False, True, True, False, True]\n",
    "df"
   ]
  },
  {
   "cell_type": "markdown",
   "metadata": {},
   "source": [
    "#### Leyendo la información:  \n",
    "Los archivos que tenemos pueden estar en distintos formatos: dta, sav, json, csv, txt. Pandas puede leer cualquiera de dichos archivos. \n",
    "\n",
    "\n",
    "- read_csv()\n",
    "- read_json()\n",
    "- read_html()\n",
    "- read_sql()\n",
    "- read_pickle()\n",
    "- read_stata()\n",
    "- read_spss()"
   ]
  },
  {
   "cell_type": "code",
   "execution_count": null,
   "metadata": {},
   "outputs": [],
   "source": [
    "locacion_datos = \"https://otorongo.club/2021/json/ingresos/\"\n",
    "\n",
    "cong = pd.read_json(locacion_datos) ## Hacer esto tiene el mismo efecto que haber guardado el archivo en PC"
   ]
  },
  {
   "cell_type": "code",
   "execution_count": null,
   "metadata": {},
   "outputs": [],
   "source": [
    "cong ## Nos da una representación del dataframe cong"
   ]
  },
  {
   "cell_type": "code",
   "execution_count": null,
   "metadata": {},
   "outputs": [],
   "source": [
    "cong.head() ## Nos da las primeras observaciones del dataframe"
   ]
  },
  {
   "cell_type": "code",
   "execution_count": null,
   "metadata": {},
   "outputs": [],
   "source": [
    "cong.tail() ## Nos da las últimas observaciones del dataframe. "
   ]
  },
  {
   "cell_type": "code",
   "execution_count": null,
   "metadata": {},
   "outputs": [],
   "source": [
    "#Necesita instalar pyreadstat también\n",
    "## Abrir un archivo spss es muy parecido a abrir un archivo dta \n",
    "enc_lgbt = pd.read_spss(\"./602-Modulo1287.sav\")"
   ]
  },
  {
   "cell_type": "code",
   "execution_count": null,
   "metadata": {},
   "outputs": [],
   "source": [
    "enc_lgbt.head(5)"
   ]
  },
  {
   "cell_type": "code",
   "execution_count": null,
   "metadata": {},
   "outputs": [],
   "source": [
    "mod_2 = pd.read_stata(\"./enaho01-2022-200.dta\",preserve_dtypes = False)"
   ]
  },
  {
   "cell_type": "code",
   "execution_count": null,
   "metadata": {},
   "outputs": [],
   "source": [
    "mod_1.head()"
   ]
  },
  {
   "cell_type": "markdown",
   "metadata": {},
   "source": [
    "#### Explorando la base de datos que tenemos. "
   ]
  },
  {
   "cell_type": "markdown",
   "metadata": {},
   "source": [
    "El primer paso de nuestro análisis siempre tiene que ser entender las datos. Para ello seguimos los siguientes pasos:"
   ]
  },
  {
   "cell_type": "code",
   "execution_count": null,
   "metadata": {},
   "outputs": [],
   "source": [
    "cong.info()  ## Obtenemos el nombre de las columnas, si es que hay valores faltantes (missing values)  y el tipo de cada una de las cols "
   ]
  },
  {
   "cell_type": "code",
   "execution_count": null,
   "metadata": {},
   "outputs": [],
   "source": [
    "cong.shape  ### Nos ayuda a ver las dimensiones de nuestra base de datos. \n",
    "### en este caso: 3316 candidatos a congresistas/presidentes y 10 variables"
   ]
  },
  {
   "cell_type": "code",
   "execution_count": null,
   "metadata": {},
   "outputs": [],
   "source": [
    "cong.describe()"
   ]
  },
  {
   "cell_type": "code",
   "execution_count": null,
   "metadata": {},
   "outputs": [],
   "source": [
    "cong.nunique()"
   ]
  },
  {
   "cell_type": "code",
   "execution_count": null,
   "metadata": {},
   "outputs": [],
   "source": [
    "nomb_variables = cong.columns  ## Nos da un array con el nombre de las variables que componen la base de datos"
   ]
  },
  {
   "cell_type": "code",
   "execution_count": null,
   "metadata": {},
   "outputs": [],
   "source": [
    "for nomb in nomb_variables:\n",
    "    print(nomb)"
   ]
  },
  {
   "cell_type": "code",
   "execution_count": null,
   "metadata": {},
   "outputs": [],
   "source": [
    "cong.describe() ## Da las medidas centrales de las variables numéricas"
   ]
  },
  {
   "cell_type": "markdown",
   "metadata": {},
   "source": [
    "#### Cómo seleccionar datos\n",
    "\n",
    "A veces sólo necesitamos entender una parte de todos nuestros datos. Por ejemplo, queremos ver los datos de los partidos políticos:"
   ]
  },
  {
   "cell_type": "code",
   "execution_count": null,
   "metadata": {},
   "outputs": [],
   "source": [
    "cong.partido ## 1era forma"
   ]
  },
  {
   "cell_type": "code",
   "execution_count": null,
   "metadata": {},
   "outputs": [],
   "source": [
    "cong['partido'] # 2da forma\n",
    "\n"
   ]
  },
  {
   "cell_type": "code",
   "execution_count": null,
   "metadata": {},
   "outputs": [],
   "source": [
    "cong['nombre partido'] = cong['partido']"
   ]
  },
  {
   "cell_type": "code",
   "execution_count": null,
   "metadata": {},
   "outputs": [],
   "source": [
    "cong['nombre partido']"
   ]
  },
  {
   "cell_type": "code",
   "execution_count": null,
   "metadata": {},
   "outputs": [],
   "source": [
    "## A veces queremos contar los valores únicos de una sola columna\n",
    "\n",
    "cong['partido'].value_counts()"
   ]
  },
  {
   "cell_type": "markdown",
   "metadata": {},
   "source": [
    "#### Seleccionando un grupo de columnas \n",
    "\n",
    "A veces solo queremos ver un grupo de columnas "
   ]
  },
  {
   "cell_type": "code",
   "execution_count": null,
   "metadata": {},
   "outputs": [],
   "source": [
    "cong.columns"
   ]
  },
  {
   "cell_type": "code",
   "execution_count": null,
   "metadata": {},
   "outputs": [],
   "source": [
    "peque_lst = ['nombre', 'dni', 'partido']"
   ]
  },
  {
   "cell_type": "code",
   "execution_count": null,
   "metadata": {},
   "outputs": [],
   "source": [
    "cong_small = cong[peque_lst].copy().reset_index()"
   ]
  },
  {
   "cell_type": "markdown",
   "metadata": {},
   "source": [
    "Un dataframe está compuesto de varias series (cada columna es una serie diferente)"
   ]
  },
  {
   "cell_type": "code",
   "execution_count": null,
   "metadata": {},
   "outputs": [],
   "source": [
    "type(cong['nombre'])"
   ]
  },
  {
   "cell_type": "code",
   "execution_count": null,
   "metadata": {},
   "outputs": [],
   "source": [
    "type(cong['partido'])"
   ]
  },
  {
   "cell_type": "markdown",
   "metadata": {},
   "source": [
    "#### Seleccionando un grupo de filas\n",
    "\n",
    "Para dicha tarea, hay 2 formas de hacerlo: usando el ``` iloc``` o el ```loc ```"
   ]
  },
  {
   "cell_type": "markdown",
   "metadata": {},
   "source": [
    "##### Utilizando el iloc\n",
    "El iloc ubica las observaciones que corresponden al índice que le indicamos. \n",
    "Recordando nuestra base de congresistas: "
   ]
  },
  {
   "cell_type": "code",
   "execution_count": null,
   "metadata": {},
   "outputs": [],
   "source": [
    "# Agarrando observaciones puntuales\n",
    "\n",
    "cong.iloc[1]"
   ]
  },
  {
   "cell_type": "code",
   "execution_count": null,
   "metadata": {},
   "outputs": [],
   "source": [
    "# Agarrando observaciones puntuales\n",
    "rows = [10,13,3000]\n",
    "cong.iloc[rows]"
   ]
  },
  {
   "cell_type": "code",
   "execution_count": null,
   "metadata": {},
   "outputs": [],
   "source": [
    "rows = [10,13,3000]\n",
    "cols = [2,4,6]\n",
    "cong.iloc[rows, cols]"
   ]
  },
  {
   "cell_type": "code",
   "execution_count": null,
   "metadata": {},
   "outputs": [],
   "source": [
    "cong.iloc[:10,:]"
   ]
  },
  {
   "cell_type": "markdown",
   "metadata": {},
   "source": [
    "Utilizando el ```loc```\n",
    "\n",
    "El ``` loc``` es una forma de ubicar observaciones que se basa en las etiquetas, tanto de columnas como de filas. \n",
    "\n",
    "Vamos a hacer una nueva indexación de la base de congresistas:  "
   ]
  },
  {
   "cell_type": "code",
   "execution_count": null,
   "metadata": {},
   "outputs": [],
   "source": [
    "cong_ind = cong.set_index('dni')"
   ]
  },
  {
   "cell_type": "code",
   "execution_count": null,
   "metadata": {},
   "outputs": [],
   "source": [
    "cong_ind.head(5)"
   ]
  },
  {
   "cell_type": "code",
   "execution_count": null,
   "metadata": {},
   "outputs": [],
   "source": [
    "cong_ind.iloc[0]"
   ]
  },
  {
   "cell_type": "code",
   "execution_count": null,
   "metadata": {},
   "outputs": [],
   "source": [
    "## cong_ind.loc[0] Esto sale error! porque no hay un index = 0 , ya que hemos puesto como index a los DNIS. "
   ]
  },
  {
   "cell_type": "code",
   "execution_count": null,
   "metadata": {},
   "outputs": [],
   "source": [
    "cong_ind.loc[27428781]"
   ]
  },
  {
   "cell_type": "code",
   "execution_count": null,
   "metadata": {},
   "outputs": [],
   "source": [
    "columnas = [\"nombre\", \"partido\", \"total_ingreso\"]\n",
    "filas = range(0,6)\n",
    "cong.loc[filas, columnas]\n",
    "\n",
    "cong.loc[#[0,1,2,5],\n",
    "    0:5,\n",
    "    ['nombre', 'partido', 'total_ingreso']]"
   ]
  },
  {
   "cell_type": "code",
   "execution_count": null,
   "metadata": {},
   "outputs": [],
   "source": [
    "cong.loc[:, columnas]"
   ]
  },
  {
   "cell_type": "markdown",
   "metadata": {},
   "source": [
    "#### Filtrando información\n",
    "\n",
    "Muchas veces querremos quedarnos con un subconjunto de datos que cumplen cierta condición. Las condiciones tienen que evaluarse a un booleano. Por ejemplo:"
   ]
  },
  {
   "cell_type": "code",
   "execution_count": null,
   "metadata": {},
   "outputs": [],
   "source": [
    "condicion = [True] * (len(cong) - 5) + [False] * 5\n",
    "condicion2 = [True] * 5 + [False] * (len(cong) - 5)\n",
    "cong[condicion]"
   ]
  },
  {
   "cell_type": "code",
   "execution_count": null,
   "metadata": {},
   "outputs": [],
   "source": [
    "cong.loc[condicion2]"
   ]
  },
  {
   "cell_type": "code",
   "execution_count": null,
   "metadata": {},
   "outputs": [],
   "source": [
    "cond = cong['total_ingreso'] > 1_000_000\n",
    "\n",
    "cong[cond]"
   ]
  },
  {
   "cell_type": "code",
   "execution_count": null,
   "metadata": {},
   "outputs": [],
   "source": [
    "cond_1 = cong['total_ingreso'] > 100000\n",
    "cond_2 = cong['partido'] == \"FUERZA POPULAR\"\n",
    "\n",
    "cong[cond_1 & cond_2]"
   ]
  },
  {
   "cell_type": "code",
   "execution_count": null,
   "metadata": {},
   "outputs": [],
   "source": []
  }
 ],
 "metadata": {
  "celltoolbar": "Slideshow",
  "kernelspec": {
   "display_name": "Python 3 (ipykernel)",
   "language": "python",
   "name": "python3"
  },
  "language_info": {
   "codemirror_mode": {
    "name": "ipython",
    "version": 3
   },
   "file_extension": ".py",
   "mimetype": "text/x-python",
   "name": "python",
   "nbconvert_exporter": "python",
   "pygments_lexer": "ipython3",
   "version": "3.11.7"
  }
 },
 "nbformat": 4,
 "nbformat_minor": 4
}
