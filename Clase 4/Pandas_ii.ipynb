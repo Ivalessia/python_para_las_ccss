{
 "cells": [
  {
   "cell_type": "markdown",
   "metadata": {},
   "source": [
    "# Pandas (Parte 2)\n",
    "\n",
    "En la última sesión vimos una introducción a Pandas. \n",
    "Las taraeas que aprendimos a hacer fueron:\n",
    "\n",
    "- Crear y leer una base de datos. \n",
    "- Realizar los primeros análisis descriptivos de una base de datos. \n",
    "- Seleccionar información (por columnas  y filas). \n",
    "- Tabular información \n",
    "- Filtrar información "
   ]
  },
  {
   "cell_type": "markdown",
   "metadata": {},
   "source": [
    "### Ordenando valores \n",
    "\n",
    "A veces queremos ordenar nuestro dataframe de acuerdo a criterios específicos"
   ]
  },
  {
   "cell_type": "markdown",
   "metadata": {},
   "source": [
    "## Limpieza de datos"
   ]
  },
  {
   "cell_type": "code",
   "execution_count": null,
   "metadata": {},
   "outputs": [],
   "source": [
    "import pandas as pd"
   ]
  },
  {
   "cell_type": "code",
   "execution_count": null,
   "metadata": {},
   "outputs": [],
   "source": [
    "locacion_datos = \"https://otorongo.club/2021/json/ingresos/\"\n",
    "\n",
    "cong = pd.read_json(locacion_datos)"
   ]
  },
  {
   "cell_type": "code",
   "execution_count": null,
   "metadata": {},
   "outputs": [],
   "source": [
    "\n",
    "## Ordenando de menor a mayor\n",
    "cong.sort_values(\"total_ingreso\", inplace = True)\n",
    "#cong.head(4)"
   ]
  },
  {
   "cell_type": "code",
   "execution_count": null,
   "metadata": {},
   "outputs": [],
   "source": [
    "## Ordenando de mayor a menor\n",
    "cong.sort_values(\"total_ingreso\",ascending = False,  inplace = True)\n",
    "#cong.head(3)"
   ]
  },
  {
   "cell_type": "code",
   "execution_count": null,
   "metadata": {},
   "outputs": [],
   "source": [
    "## Ordenando con más de un criterio. \n",
    "cong.sort_values(['partido', 'total_ingreso'],ascending = False,  inplace = True)\n",
    "#cong.head(10)"
   ]
  },
  {
   "cell_type": "markdown",
   "metadata": {},
   "source": [
    "### Cambiando de nombre a nuestras columnas\n",
    "Muchas veces necesitamos cambiar de nombre a nuestras columnas. Podemos hacerlo directamente: "
   ]
  },
  {
   "cell_type": "code",
   "execution_count": null,
   "metadata": {},
   "outputs": [],
   "source": [
    "cong2 = cong.copy(deep = True)"
   ]
  },
  {
   "cell_type": "code",
   "execution_count": null,
   "metadata": {},
   "outputs": [],
   "source": [
    "cong2.columns"
   ]
  },
  {
   "cell_type": "code",
   "execution_count": null,
   "metadata": {},
   "outputs": [],
   "source": [
    "cong2.columns = ['nombre_congresista', \"dni_cong\"] + list(cong2.columns[2:]) ## Esta lista al final "
   ]
  },
  {
   "cell_type": "markdown",
   "metadata": {},
   "source": [
    "Otra forma de cambiar nombres es definir un diccionario donde se da el ```nombre_viejo: nombre_nuevo ```"
   ]
  },
  {
   "cell_type": "code",
   "execution_count": null,
   "metadata": {},
   "outputs": [],
   "source": [
    "nuevos_nombres = {'nombre_congresista': 'nombre', 'dni_cong' : 'dni'}"
   ]
  },
  {
   "cell_type": "code",
   "execution_count": null,
   "metadata": {},
   "outputs": [],
   "source": [
    "cong2.rename(columns = nuevos_nombres, inplace = True)"
   ]
  },
  {
   "cell_type": "markdown",
   "metadata": {},
   "source": [
    "### Cambiando el valor de las variables\n",
    "Una forma práctica de cambiar los valores de nuestras variables, es usar un diccionario: "
   ]
  },
  {
   "cell_type": "code",
   "execution_count": null,
   "metadata": {},
   "outputs": [],
   "source": [
    "cong2['partido_nuevo'] = cong2['partido']\n",
    "\n",
    "cong2.replace({'partido_nuevo': {'ALIANZA PARA EL PROGRESO': 'FUERZA POPULAR',\n",
    "                                 'JUNTOS POR EL PERU': 'PARTIDO POLITICO NACIONAL PERU LIBRE'}}, inplace = True)"
   ]
  },
  {
   "cell_type": "markdown",
   "metadata": {},
   "source": [
    "También podemos usar .loc para reemplazar valores:"
   ]
  },
  {
   "cell_type": "code",
   "execution_count": null,
   "metadata": {},
   "outputs": [],
   "source": [
    "cong2.loc[cong2['partido'] == 'ALIANZA PARA EL PROGRESO', 'partido'] = 'FUERZA POPULAR'"
   ]
  },
  {
   "cell_type": "markdown",
   "metadata": {},
   "source": [
    "Tambien podemos usar el comando ``` isin``` :"
   ]
  },
  {
   "cell_type": "code",
   "execution_count": null,
   "metadata": {},
   "outputs": [],
   "source": [
    "coalicion = ['ALIANZA PARA EL PROGRESO','FUERZA POPULAR', 'VICTORIA NACIONAL']\n",
    "cong2['nueva_coalicion'] = 0\n",
    "cong2.loc[cong2[\"partido\"].isin(coalicion), \"nueva_coalicion\"] = 1"
   ]
  },
  {
   "cell_type": "code",
   "execution_count": null,
   "metadata": {},
   "outputs": [],
   "source": [
    "def clasifica_ingreso(x):\n",
    "    y = \"\"\n",
    "    if x <= 40_000:\n",
    "        y = \"bajo\"\n",
    "    elif ((x > 40_000) and (x < 100_000)):\n",
    "        y = \"medio\"\n",
    "    else:\n",
    "        y = \"alto\"\n",
    "    return y\n",
    "        "
   ]
  },
  {
   "cell_type": "code",
   "execution_count": null,
   "metadata": {},
   "outputs": [],
   "source": [
    "cong2['ingreso_escalonado'] = cong2['total_ingreso'].apply(lambda x:  clasifica_ingreso(x))"
   ]
  },
  {
   "cell_type": "code",
   "execution_count": null,
   "metadata": {},
   "outputs": [],
   "source": [
    "cong2['ingreso_escalonado'].value_counts()"
   ]
  },
  {
   "cell_type": "markdown",
   "metadata": {},
   "source": [
    "### Cómo crear variables nuevas\n",
    "\n",
    "En este caso estoy utilizando indistintamente \"variable\" de \"columna\""
   ]
  },
  {
   "cell_type": "code",
   "execution_count": null,
   "metadata": {},
   "outputs": [],
   "source": [
    "cong['nueva columna'] = True\n",
    "cong.head(3)"
   ]
  },
  {
   "cell_type": "code",
   "execution_count": null,
   "metadata": {},
   "outputs": [],
   "source": [
    "cong['ingreso mensual'] = cong['total_ingreso'] / 12\n",
    "cong['ingreso_menos_p'] = (cong['total_ingreso'] - cong['ingreso_publico'])/ 12"
   ]
  },
  {
   "cell_type": "markdown",
   "metadata": {},
   "source": [
    "Otra forma es utilizando el ```eval```: "
   ]
  },
  {
   "cell_type": "code",
   "execution_count": null,
   "metadata": {},
   "outputs": [],
   "source": [
    "cong['new_ingreso_mp'] = cong.eval('(total_ingreso-ingreso_publico)/12')\n",
    "cong['new_ingreso_mensual'] = cong.eval('total_ingreso/12')\n"
   ]
  },
  {
   "cell_type": "markdown",
   "metadata": {},
   "source": [
    "Podemos crear variables categóricas en base a variables continuas con ```cut```: "
   ]
  },
  {
   "cell_type": "code",
   "execution_count": null,
   "metadata": {},
   "outputs": [],
   "source": [
    "categ_labels = ['cat_1', 'cat_2', 'cat_3', 'cat_4']\n",
    "categ_bins = [-1, 10000, 50000, 100000, 200000000]"
   ]
  },
  {
   "cell_type": "code",
   "execution_count": null,
   "metadata": {},
   "outputs": [],
   "source": [
    "cong2['cat_ingreso'] = pd.cut(cong2['total_ingreso'],\n",
    "                              bins = categ_bins, labels = categ_labels)"
   ]
  },
  {
   "cell_type": "markdown",
   "metadata": {},
   "source": [
    "Tarea: Crear cuantiles (qcut)"
   ]
  },
  {
   "cell_type": "markdown",
   "metadata": {},
   "source": [
    "### Agregar datos\n",
    "\n",
    "Muchas veces vamos a querer una agregación de los datos que nos resuma algunas de las variables en sus medidas de tendencia central, o las que nos interese. "
   ]
  },
  {
   "cell_type": "markdown",
   "metadata": {},
   "source": [
    "La forma más general de agregar los datos es la siguiente: \n",
    "    "
   ]
  },
  {
   "cell_type": "code",
   "execution_count": null,
   "metadata": {},
   "outputs": [],
   "source": [
    "cong.median()"
   ]
  },
  {
   "cell_type": "code",
   "execution_count": null,
   "metadata": {},
   "outputs": [],
   "source": [
    "\n",
    "cong['total_ingreso'].mean()"
   ]
  },
  {
   "cell_type": "code",
   "execution_count": null,
   "metadata": {},
   "outputs": [],
   "source": [
    "cong[cong['partido'] == \"PARTIDO MORADO\"]['total_ingreso'].mean()"
   ]
  },
  {
   "cell_type": "markdown",
   "metadata": {},
   "source": [
    "En general, podemos hacer todas estas agregaciones: \n",
    "\n",
    "* `mean` - promedio\n",
    "* `median` - mediana\n",
    "* `sum` - suma\n",
    "* `min` - mínimo\n",
    "* `max` - máximo\n",
    "* `quantile` - nos da el cuantil que le pedimos\n",
    "* `std` - desviación standar\n",
    "* `var` - varianza\n",
    "* `count` - produce el número de valores no missing\n",
    "* `describe` - nos da varias de las medidas de arriba\n"
   ]
  },
  {
   "cell_type": "markdown",
   "metadata": {},
   "source": [
    "### OJO: Podemos hacer agregaciones de ó columnas ó filas. \n",
    "\n",
    "Para hacer agregaciones por columnas: ```axis = 0``` ó ```axis = 'index' ```    \n",
    "Para hacer agregaciones por filas: ```axis = 1``` ó ```axis = 'columns' ```"
   ]
  },
  {
   "cell_type": "code",
   "execution_count": null,
   "metadata": {},
   "outputs": [],
   "source": [
    "## Sumando todos los ingresos por congresista\n",
    "cong['otro_total'] = cong[['ingreso_publico',\n",
    "       'ingreso_privado', 'renta_publico', 'renta_privado',\n",
    "       'otro_ingreso_publico', 'otro_ingreso_privado']].sum(axis = 1)"
   ]
  },
  {
   "cell_type": "code",
   "execution_count": null,
   "metadata": {},
   "outputs": [],
   "source": [
    "cong[['ingreso_publico',\n",
    "       'ingreso_privado', 'renta_publico', 'renta_privado',\n",
    "       'otro_ingreso_publico', 'otro_ingreso_privado']].quantile(q = 0.8, axis = 0)"
   ]
  },
  {
   "cell_type": "code",
   "execution_count": null,
   "metadata": {},
   "outputs": [],
   "source": [
    "cong[['total_ingreso', 'partido']].groupby('partido').mean()"
   ]
  },
  {
   "cell_type": "code",
   "execution_count": null,
   "metadata": {},
   "outputs": [],
   "source": [
    "(cong[['total_ingreso', 'partido']].groupby('partido').max().reset_index())\n",
    "\n",
    "#.sort_values('total_ingreso')"
   ]
  },
  {
   "cell_type": "markdown",
   "metadata": {},
   "source": [
    "Si bien hay varias formas, la más general es la siguiente:"
   ]
  },
  {
   "cell_type": "code",
   "execution_count": null,
   "metadata": {},
   "outputs": [],
   "source": [
    "nueva_agregacion = cong.groupby(['partido']).agg(\n",
    "{'total_ingreso': ['mean', 'max','min'], \n",
    " 'ingreso_privado': ['mean', 'median']}\n",
    ")"
   ]
  },
  {
   "cell_type": "code",
   "execution_count": null,
   "metadata": {},
   "outputs": [],
   "source": [
    "nueva_agregacion"
   ]
  },
  {
   "cell_type": "code",
   "execution_count": null,
   "metadata": {},
   "outputs": [],
   "source": [
    "## El reset index es importante!\n",
    "nueva_agregacion = cong.groupby(['partido']).agg(\n",
    "{'total_ingreso': ['mean', 'max'], \n",
    " 'ingreso_privado': ['mean', 'median']}\n",
    ").reset_index()\n",
    "\n"
   ]
  },
  {
   "cell_type": "code",
   "execution_count": null,
   "metadata": {},
   "outputs": [],
   "source": [
    "nueva_agregacion"
   ]
  },
  {
   "cell_type": "code",
   "execution_count": null,
   "metadata": {},
   "outputs": [],
   "source": [
    "nueva_agregacion.columns"
   ]
  },
  {
   "cell_type": "code",
   "execution_count": null,
   "metadata": {},
   "outputs": [],
   "source": [
    "nueva_agregacion[(  'total_ingreso',   'mean')]"
   ]
  },
  {
   "cell_type": "code",
   "execution_count": null,
   "metadata": {},
   "outputs": [],
   "source": [
    "nueva_agregacion.columns = [''.join(col).strip() for col in nueva_agregacion.columns.values]"
   ]
  },
  {
   "cell_type": "code",
   "execution_count": null,
   "metadata": {},
   "outputs": [],
   "source": [
    "new_col = []\n",
    "for col in nueva_agregacion.columns.values:\n",
    "    a = ''.join(col).strip()\n",
    "    new_col.append(a)\n",
    "nueva_agregacion.columns = new_col"
   ]
  },
  {
   "cell_type": "code",
   "execution_count": null,
   "metadata": {},
   "outputs": [],
   "source": [
    "nueva_agregacion\n"
   ]
  },
  {
   "cell_type": "markdown",
   "metadata": {},
   "source": [
    "Una nueva forma de ordenar nuestro código es ponerlo entre paréntesis y separarlo por \"puntitos\""
   ]
  },
  {
   "cell_type": "code",
   "execution_count": null,
   "metadata": {},
   "outputs": [],
   "source": [
    "nueva_agregacion = (cong\n",
    "                    .groupby(['partido'])\n",
    "                    .agg(\n",
    "                    {'total_ingreso': ['mean', 'max'], \n",
    "                     'ingreso_privado': ['mean', 'median']}\n",
    "                   ).reset_index())\n",
    "\n"
   ]
  },
  {
   "cell_type": "markdown",
   "metadata": {},
   "source": [
    "### Juntar datos (merge)\n",
    "\n",
    "A veces tenemos los datos que nos interesan, esparcidos en diferentes dataframes.   \n",
    "1er paso para hacer la unión de datos: Identificar el identificador único!\n",
    "\n"
   ]
  },
  {
   "cell_type": "code",
   "execution_count": null,
   "metadata": {},
   "outputs": [],
   "source": [
    "cong_1 = cong[['dni', 'total_ingreso']]\n",
    "\n",
    "cong_2 = cong[['dni', 'partido']]"
   ]
  },
  {
   "cell_type": "markdown",
   "metadata": {},
   "source": [
    "\n",
    "La sintaxis más general de un merge es la siguiente: \n",
    "\n",
    "``` python\n",
    "pd.merge(left = left_df,\n",
    "         right=right_df,\n",
    "         left_on=colname, \n",
    "         right_on=colname,\n",
    "         how=merge_type)\n",
    "\n",
    "```\n",
    "\n",
    "El merge_type (o tipo de merge puede ser):\n",
    "\n",
    "- left: quedan todas las observaciones (por keys) de las mano izquierda\n",
    "- right: quedan todas las observaciones (por keys) de la mano derecha\n",
    "- outer: es la unión de los keys de ambas bases\n",
    "- inner: es la intersección de los keys de ambas bases. \n"
   ]
  },
  {
   "cell_type": "code",
   "execution_count": null,
   "metadata": {},
   "outputs": [],
   "source": [
    "resultado_merge = pd.merge(cong_1,\n",
    "                     cong_2,\n",
    "                    left_on = 'dni',\n",
    "                    right_on = 'dni',\n",
    "                    how = 'inner', indicator = True)\n",
    "resultado_merge"
   ]
  },
  {
   "cell_type": "code",
   "execution_count": null,
   "metadata": {},
   "outputs": [],
   "source": [
    "solo_fp = cong_2.loc[cong2['partido'] == 'FUERZA POPULAR', :]"
   ]
  },
  {
   "cell_type": "code",
   "execution_count": null,
   "metadata": {},
   "outputs": [],
   "source": [
    "resultado_merge_fp = pd.merge(cong_1,\n",
    "                     solo_fp,\n",
    "                    left_on = 'dni',\n",
    "                    right_on = 'dni',\n",
    "                    how = 'inner')\n",
    "resultado_merge_fp"
   ]
  },
  {
   "cell_type": "code",
   "execution_count": null,
   "metadata": {},
   "outputs": [],
   "source": []
  }
 ],
 "metadata": {
  "kernelspec": {
   "display_name": "Python 3 (ipykernel)",
   "language": "python",
   "name": "python3"
  },
  "language_info": {
   "codemirror_mode": {
    "name": "ipython",
    "version": 3
   },
   "file_extension": ".py",
   "mimetype": "text/x-python",
   "name": "python",
   "nbconvert_exporter": "python",
   "pygments_lexer": "ipython3",
   "version": "3.11.7"
  }
 },
 "nbformat": 4,
 "nbformat_minor": 4
}
