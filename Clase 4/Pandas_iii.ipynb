{
 "cells": [
  {
   "cell_type": "markdown",
   "metadata": {},
   "source": [
    "# Pandas (Parte 3)"
   ]
  },
  {
   "cell_type": "code",
   "execution_count": null,
   "metadata": {},
   "outputs": [],
   "source": [
    "import pandas as pd\n",
    "import numpy as np\n"
   ]
  },
  {
   "cell_type": "markdown",
   "metadata": {},
   "source": [
    "## Visualizando los tipos de merge\n",
    "\n",
    "<img src=\"img/joinimages.png\" width=\"500\">\n",
    "\n",
    "- Inner join: how = \"inner\"\n",
    "- Left outer join : how = \"left\"\n",
    "- Right outer join: how = \"right\"\n",
    "- Full outer join: how = \"outer\"\n",
    "\n",
    "Tomado de https://www.geeksforgeeks.org/python-pandas-merging-joining-and-concatenating/\n"
   ]
  },
  {
   "cell_type": "code",
   "execution_count": null,
   "metadata": {},
   "outputs": [],
   "source": [
    "locacion_datos = \"https://otorongo.club/2021/json/ingresos/\"\n",
    "\n",
    "cong = pd.read_json(locacion_datos)"
   ]
  },
  {
   "cell_type": "code",
   "execution_count": null,
   "metadata": {},
   "outputs": [],
   "source": [
    "cong_1 = cong[['dni', 'total_ingreso']]\n",
    "\n",
    "cong_2 = cong[['dni', 'partido']]\n",
    "\n",
    "solo_vn = cong_2.loc[cong_2['partido'] == 'VICTORIA NACIONAL', :]"
   ]
  },
  {
   "cell_type": "markdown",
   "metadata": {},
   "source": [
    "Cómo es un outer merge? "
   ]
  },
  {
   "cell_type": "code",
   "execution_count": null,
   "metadata": {},
   "outputs": [],
   "source": [
    "resultado_merge_vn = pd.merge(cong_1,\n",
    "                     solo_vn,\n",
    "                    left_on = 'dni',\n",
    "                    right_on = 'dni',\n",
    "                    how = 'outer')\n",
    "\n",
    "resultado_merge_vn\n",
    "#resultado_merge_vn.loc[resultado_merge_vn['partido'] != 'VICTORIA NACIONAL']\n",
    "#resultado_merge_vn.loc[resultado_merge_vn['partido'] == 'VICTORIA NACIONAL']"
   ]
  },
  {
   "cell_type": "markdown",
   "metadata": {},
   "source": [
    "Cómo es un left merge? Y un right merge? \n"
   ]
  },
  {
   "cell_type": "code",
   "execution_count": null,
   "metadata": {},
   "outputs": [],
   "source": [
    "resultado_merge_vn = pd.merge(cong_1,\n",
    "                     solo_vn,\n",
    "                    left_on = 'dni',\n",
    "                    right_on = 'dni',\n",
    "                    how = 'left')\n",
    "#                    how = 'right')\n",
    "\n",
    "resultado_merge_vn"
   ]
  },
  {
   "cell_type": "markdown",
   "metadata": {},
   "source": [
    "### Uniendo varias bases de datos verticalmente (append)\n",
    "\n",
    "En pandas, este método se llama concat. "
   ]
  },
  {
   "cell_type": "code",
   "execution_count": null,
   "metadata": {},
   "outputs": [],
   "source": [
    "df_partidos = {}\n",
    "for cat in cong['partido'].unique():\n",
    "    df = cong.loc[cong['partido'] == cat]\n",
    "    df_partidos[cat] = df"
   ]
  },
  {
   "cell_type": "code",
   "execution_count": null,
   "metadata": {},
   "outputs": [],
   "source": [
    "df_fp = df_partidos['FUERZA POPULAR']\n",
    "df_vn = df_partidos['VICTORIA NACIONAL']"
   ]
  },
  {
   "cell_type": "code",
   "execution_count": null,
   "metadata": {},
   "outputs": [],
   "source": [
    "df_append = pd.concat([df_vn,df_fp])"
   ]
  },
  {
   "cell_type": "code",
   "execution_count": null,
   "metadata": {},
   "outputs": [],
   "source": [
    "#df_append"
   ]
  },
  {
   "cell_type": "code",
   "execution_count": null,
   "metadata": {},
   "outputs": [],
   "source": [
    "df_append = pd.concat([df_partidos['FUERZA POPULAR'], df_partidos['VICTORIA NACIONAL']])"
   ]
  },
  {
   "cell_type": "markdown",
   "metadata": {},
   "source": [
    "### Limpieza de datos (parte 2)"
   ]
  },
  {
   "cell_type": "markdown",
   "metadata": {},
   "source": [
    "Eliminando columnas"
   ]
  },
  {
   "cell_type": "code",
   "execution_count": null,
   "metadata": {},
   "outputs": [],
   "source": [
    "#Creando (y eliminando) una columna que refleja un mal cálculo\n",
    "cong['calculo_mal_hecho'] = cong.eval('ingreso_publico + ingreso_privado')"
   ]
  },
  {
   "cell_type": "code",
   "execution_count": null,
   "metadata": {},
   "outputs": [],
   "source": [
    "cong.drop(columns = 'calculo_mal_hecho', inplace = True)\n"
   ]
  },
  {
   "cell_type": "markdown",
   "metadata": {},
   "source": [
    "Identificando (y eliminando) duplicados:"
   ]
  },
  {
   "cell_type": "code",
   "execution_count": null,
   "metadata": {},
   "outputs": [],
   "source": [
    "nueva_df = pd.concat([cong, cong])"
   ]
  },
  {
   "cell_type": "code",
   "execution_count": null,
   "metadata": {},
   "outputs": [],
   "source": [
    "nueva_df.head(5)"
   ]
  },
  {
   "cell_type": "code",
   "execution_count": null,
   "metadata": {},
   "outputs": [],
   "source": [
    "nueva_df.nunique()"
   ]
  },
  {
   "cell_type": "code",
   "execution_count": null,
   "metadata": {},
   "outputs": [],
   "source": [
    "## Cuales son las dimensiones de nuestra dataframe si eliminamos las observaciones duplicadas\n",
    "nueva_df.drop_duplicates().shape"
   ]
  },
  {
   "cell_type": "code",
   "execution_count": null,
   "metadata": {},
   "outputs": [],
   "source": [
    "nueva_df.shape"
   ]
  },
  {
   "cell_type": "code",
   "execution_count": null,
   "metadata": {},
   "outputs": [],
   "source": [
    "sin_duplicados = nueva_df.drop_duplicates(subset='dni', keep = \"last\") ## métodos de keep: \n",
    "sin_duplicados.head(5)"
   ]
  },
  {
   "cell_type": "code",
   "execution_count": null,
   "metadata": {},
   "outputs": [],
   "source": [
    "sin_duplicados_2 = nueva_df.drop_duplicates(subset=['dni','partido'])\n"
   ]
  },
  {
   "cell_type": "markdown",
   "metadata": {},
   "source": [
    "### Manejando valores perdidos (missing)\n",
    "\n",
    "A continuación veremos cómo manejar valores perdidos (missing). Veremos 3 métodos en especial:\n",
    "- ` isna`\n",
    "- `dropna`\n",
    "- `fillna`"
   ]
  },
  {
   "cell_type": "code",
   "execution_count": null,
   "metadata": {},
   "outputs": [],
   "source": [
    "cong_m = cong.copy(deep = True)"
   ]
  },
  {
   "cell_type": "code",
   "execution_count": null,
   "metadata": {},
   "outputs": [],
   "source": [
    "cong_m.replace({0:np.nan}, inplace = True)"
   ]
  },
  {
   "cell_type": "code",
   "execution_count": null,
   "metadata": {},
   "outputs": [],
   "source": [
    "cong_m.isna().head(5)"
   ]
  },
  {
   "cell_type": "code",
   "execution_count": null,
   "metadata": {},
   "outputs": [],
   "source": [
    "cong_m.isna().sum()"
   ]
  },
  {
   "cell_type": "code",
   "execution_count": null,
   "metadata": {},
   "outputs": [],
   "source": [
    "cong_m.isna().mean().round(4)*100"
   ]
  },
  {
   "cell_type": "code",
   "execution_count": null,
   "metadata": {},
   "outputs": [],
   "source": [
    "## Aquí vemos cuales observaciones se eliminarían \n",
    "cong_m.dropna().shape"
   ]
  },
  {
   "cell_type": "code",
   "execution_count": null,
   "metadata": {},
   "outputs": [],
   "source": [
    "cong_m.dropna(subset=['ingreso_publico', 'ingreso_privado']).shape"
   ]
  },
  {
   "cell_type": "code",
   "execution_count": null,
   "metadata": {},
   "outputs": [],
   "source": [
    "#cong_m.fillna('hola')"
   ]
  },
  {
   "cell_type": "code",
   "execution_count": null,
   "metadata": {},
   "outputs": [],
   "source": [
    "dict_fill = {'total_ingreso': 0, 'ingreso_publico': 'hola'}\n",
    "#cong_m.fillna(dict_fill)"
   ]
  },
  {
   "cell_type": "code",
   "execution_count": null,
   "metadata": {},
   "outputs": [],
   "source": [
    "med_fill = cong_m.median(numeric_only=True)\n",
    "med_fill"
   ]
  },
  {
   "cell_type": "code",
   "execution_count": null,
   "metadata": {},
   "outputs": [],
   "source": [
    "med_fill = cong_m.median(numeric_only=True)\n",
    "\n",
    "cong_m.fillna(med_fill)"
   ]
  },
  {
   "cell_type": "markdown",
   "metadata": {},
   "source": [
    "### Haciendo un reshape de los datos (volver los datos de wide a long, y viceversa).\n",
    "\n",
    "<img src=\"img/wlong.png\" width=\"500\">\n",
    "de: https://www.statology.org/long-vs-wide-data/"
   ]
  },
  {
   "cell_type": "code",
   "execution_count": null,
   "metadata": {},
   "outputs": [],
   "source": [
    "categ_labels = ['cat_1', 'cat_2', 'cat_3', 'cat_4']\n",
    "categ_bins = [-1, 10000, 50000, 100000, 200000000]\n",
    "cong['cat_ingreso'] = pd.cut(cong['total_ingreso'],\n",
    "                              bins = categ_bins, labels = categ_labels)\n",
    "\n"
   ]
  },
  {
   "cell_type": "code",
   "execution_count": null,
   "metadata": {},
   "outputs": [],
   "source": [
    "cong.head(3)"
   ]
  },
  {
   "cell_type": "code",
   "execution_count": null,
   "metadata": {},
   "outputs": [],
   "source": [
    "resumen = cong.pivot_table(index='partido', columns='cat_ingreso', values='total_ingreso', aggfunc='mean')"
   ]
  },
  {
   "cell_type": "code",
   "execution_count": null,
   "metadata": {},
   "outputs": [],
   "source": [
    "resumen.columns = resumen.columns.astype(str) ### Tengo que convertir mis columnas, que eran \"Categorical indexes\" en strings (no siempre pasara esto, suele estar en string )\n",
    "#resumen['total'] =resumen.sum(axis=1)"
   ]
  },
  {
   "cell_type": "code",
   "execution_count": null,
   "metadata": {},
   "outputs": [],
   "source": [
    "resumen = resumen.reset_index()"
   ]
  },
  {
   "cell_type": "code",
   "execution_count": null,
   "metadata": {},
   "outputs": [],
   "source": [
    "resumen_melted = resumen.melt(id_vars = 'partido', value_vars = ['cat_1', 'cat_2', 'cat_3', 'cat_4'])\n",
    "resumen_melted"
   ]
  },
  {
   "cell_type": "markdown",
   "metadata": {},
   "source": [
    "## Apply\n",
    "A veces queremos aplicarle una función a cada observación de una variable. Esto no se puede directamente ya que pandas hace cálculos vectoriales. En estos casos usamos el apply. \n"
   ]
  },
  {
   "cell_type": "code",
   "execution_count": null,
   "metadata": {},
   "outputs": [],
   "source": [
    "## Usando las mismas categorías de ingresos de antes:\n",
    "def clasif_ing(ing):\n",
    "    if ing < 10000:\n",
    "        new_ing = 'cat_1'\n",
    "    elif ((ing >= 10000) & (ing < 50000)):\n",
    "          new_ing = 'cat_2'\n",
    "    else:\n",
    "          new_ing = 'cat_3'\n",
    "    return new_ing\n"
   ]
  },
  {
   "cell_type": "code",
   "execution_count": null,
   "metadata": {},
   "outputs": [],
   "source": [
    "cong['nueva_cat'] = cong['total_ingreso'].apply(lambda x: clasif_ing(x))\n",
    "cong[['total_ingreso', 'nueva_cat']]"
   ]
  },
  {
   "cell_type": "code",
   "execution_count": null,
   "metadata": {},
   "outputs": [],
   "source": []
  }
 ],
 "metadata": {
  "kernelspec": {
   "display_name": "Python 3 (ipykernel)",
   "language": "python",
   "name": "python3"
  },
  "language_info": {
   "codemirror_mode": {
    "name": "ipython",
    "version": 3
   },
   "file_extension": ".py",
   "mimetype": "text/x-python",
   "name": "python",
   "nbconvert_exporter": "python",
   "pygments_lexer": "ipython3",
   "version": "3.11.7"
  }
 },
 "nbformat": 4,
 "nbformat_minor": 4
}
